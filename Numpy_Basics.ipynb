{
  "nbformat": 4,
  "nbformat_minor": 0,
  "metadata": {
    "colab": {
      "provenance": [],
      "authorship_tag": "ABX9TyO2sHEteyxxMugJhZZ98UgO",
      "include_colab_link": true
    },
    "kernelspec": {
      "name": "python3",
      "display_name": "Python 3"
    },
    "language_info": {
      "name": "python"
    }
  },
  "cells": [
    {
      "cell_type": "markdown",
      "metadata": {
        "id": "view-in-github",
        "colab_type": "text"
      },
      "source": [
        "<a href=\"https://colab.research.google.com/github/idoncode/Machine_learning_revision_topics/blob/main/Numpy_Basics.ipynb\" target=\"_parent\"><img src=\"https://colab.research.google.com/assets/colab-badge.svg\" alt=\"Open In Colab\"/></a>"
      ]
    },
    {
      "cell_type": "markdown",
      "source": [
        "## What is Numpy?\n",
        "\n",
        "NumPy is the fundamental package for scientific computing in Python. It is a Python library that provides a multidimensional array object, various derived objects (such as masked arrays and matrics) and an assortment of routines for fast operations on arrays, including mathematical, logicalm shape manipulation, sorting, selecting, I/O, discrete Fourier transforms, basic linear algebra, basic statistical operations, random simulation and much more.\n",
        "\n",
        "At the core of the NumPy package, is the ndarray object. This encapsulates n-dimensional arrays of homogenous data types."
      ],
      "metadata": {
        "id": "6_-qWqgz_Sbb"
      }
    },
    {
      "cell_type": "markdown",
      "source": [
        "## Numpy arrays vs Python sequences\n",
        "\n",
        "* NumPy arrays have a fixed size at creation, unlike Python lists(which can grow dynamically). Changing the size of an ndarray will create a new array and delete the original.\n",
        "* The elements ina NumPy array are all required to be of the same data type, thus will be the same size in memory.\n",
        "* NumPy arrays facilitate advanced mathematical and other types of operations on large numbers of data. Typically, such operations are executed more efficiently and with less code than is possible using Python's built in sequences.\n",
        "* A growing plethora of scientific and mathematical Python based packages are using Numpy arrays; though these typically support Python-sequences input, they convert such input to Numpy arrays prior to processing, and then often output Numpy arrays."
      ],
      "metadata": {
        "id": "_c9JXqYvAHIs"
      }
    },
    {
      "cell_type": "code",
      "source": [
        "import numpy as np\n",
        "from warnings import filterwarnings\n",
        "filterwarnings('ignore')"
      ],
      "metadata": {
        "id": "RuX1KfdiQ_ZZ"
      },
      "execution_count": null,
      "outputs": []
    },
    {
      "cell_type": "markdown",
      "source": [
        "### np.array"
      ],
      "metadata": {
        "id": "oF5YjTYxQ7Hs"
      }
    },
    {
      "cell_type": "code",
      "source": [
        "a = np.array([1,2,3])\n",
        "print(f'1D array also called as a vector: {a}')\n",
        "print(f'Type of the data type object: {type(a)}')"
      ],
      "metadata": {
        "colab": {
          "base_uri": "https://localhost:8080/"
        },
        "id": "PaW8SxYOALNT",
        "outputId": "ef5c18d1-3f61-4650-94b7-d779d934d1e7"
      },
      "execution_count": null,
      "outputs": [
        {
          "output_type": "stream",
          "name": "stdout",
          "text": [
            "1D array also called as a vector: [1 2 3]\n",
            "Type of the data type object: <class 'numpy.ndarray'>\n"
          ]
        }
      ]
    },
    {
      "cell_type": "code",
      "source": [
        "# Creating 2D and 3D arrays\n",
        "\n",
        "two_D = np.array([[1,2,3],[2,3,4]])\n",
        "three_D = np.array([[[1,2,3],[2,3,4],[4,7,9]]])\n",
        "print(f'2D array also called as a matrix:\\n{two_D}\\n')\n",
        "print(f'3D array also called as a tensor:\\n{three_D}\\n')"
      ],
      "metadata": {
        "colab": {
          "base_uri": "https://localhost:8080/"
        },
        "id": "2pNTWnKjO8Ov",
        "outputId": "054c02e2-bdf2-4b28-ea79-2087e1658bfc"
      },
      "execution_count": null,
      "outputs": [
        {
          "output_type": "stream",
          "name": "stdout",
          "text": [
            "2D array also called as a matrix:\n",
            "[[1 2 3]\n",
            " [2 3 4]]\n",
            "\n",
            "3D array also called as a tensor:\n",
            "[[[1 2 3]\n",
            "  [2 3 4]\n",
            "  [4 7 9]]]\n",
            "\n"
          ]
        }
      ]
    },
    {
      "cell_type": "code",
      "source": [
        "# Changing datatypes of numpy arrays\n",
        "\n",
        "a = np.array([1,2,3],dtype = int)\n",
        "print(f'Int type: \\n{a}\\n')\n",
        "a = np.array([1,2,3],dtype = float) # <-- used most\n",
        "print(f'Float type: \\n{a}\\n')\n",
        "a = np.array([1,2,3],dtype = complex)\n",
        "print(f'Complex type: \\n{a}\\n')\n",
        "a = np.array([1,2,0],dtype = bool) ## Treating numbers as True\n",
        "print(f'Boolean type: \\n{a}\\n')"
      ],
      "metadata": {
        "colab": {
          "base_uri": "https://localhost:8080/"
        },
        "id": "mPeZqXTUPSuy",
        "outputId": "a26f7657-2b63-4924-82ab-f846b6dbd8c6"
      },
      "execution_count": null,
      "outputs": [
        {
          "output_type": "stream",
          "name": "stdout",
          "text": [
            "Int type: \n",
            "[1 2 3]\n",
            "\n",
            "Float type: \n",
            "[1. 2. 3.]\n",
            "\n",
            "Complex type: \n",
            "[1.+0.j 2.+0.j 3.+0.j]\n",
            "\n",
            "Boolean type: \n",
            "[ True  True False]\n",
            "\n"
          ]
        }
      ]
    },
    {
      "cell_type": "markdown",
      "source": [
        "### np.arange\n",
        "\n",
        "(functions like range in normal python)"
      ],
      "metadata": {
        "id": "HR3a9zV7QNP1"
      }
    },
    {
      "cell_type": "code",
      "source": [
        "np.arange(1,11) # prints 1 to 10"
      ],
      "metadata": {
        "colab": {
          "base_uri": "https://localhost:8080/"
        },
        "id": "eqgO2kVWRL-y",
        "outputId": "c5f0e052-a071-4f28-c6f8-8b8460db6770"
      },
      "execution_count": null,
      "outputs": [
        {
          "output_type": "execute_result",
          "data": {
            "text/plain": [
              "array([ 1,  2,  3,  4,  5,  6,  7,  8,  9, 10])"
            ]
          },
          "metadata": {},
          "execution_count": 18
        }
      ]
    },
    {
      "cell_type": "markdown",
      "source": [
        "### np.reshape"
      ],
      "metadata": {
        "id": "47SHe9J_RPhR"
      }
    },
    {
      "cell_type": "code",
      "source": [
        "print(f'Reshaping the np array of 10 elements in 2x5 shape\\n {np.arange(1,11).reshape(2,5)}\\n')\n",
        "print(f'Reshaping the np array of 10 elements in 5x2 shape\\n {np.arange(1,11).reshape(5,2)}\\n')"
      ],
      "metadata": {
        "colab": {
          "base_uri": "https://localhost:8080/"
        },
        "id": "bQ3CdTzJRXkO",
        "outputId": "369b97f3-4340-4554-f932-bbfe16993d34"
      },
      "execution_count": null,
      "outputs": [
        {
          "output_type": "stream",
          "name": "stdout",
          "text": [
            "Reshaping the np array of 10 elements in 2x5 shape\n",
            " [[ 1  2  3  4  5]\n",
            " [ 6  7  8  9 10]]\n",
            "\n",
            "Reshaping the np array of 10 elements in 5x2 shape\n",
            " [[ 1  2]\n",
            " [ 3  4]\n",
            " [ 5  6]\n",
            " [ 7  8]\n",
            " [ 9 10]]\n",
            "\n"
          ]
        }
      ]
    },
    {
      "cell_type": "markdown",
      "source": [
        "### np.ones and np.zeros\n",
        "\n",
        "Creating np array where array is filled with zeros/ones when you provide the shape"
      ],
      "metadata": {
        "id": "6agWgJTqRbh_"
      }
    },
    {
      "cell_type": "code",
      "source": [
        "print(f'Numpy ones:\\n{np.ones((5,3))}\\n')\n",
        "print(f'Numpy zeros:\\n{np.zeros((5,3))}\\n')"
      ],
      "metadata": {
        "colab": {
          "base_uri": "https://localhost:8080/"
        },
        "id": "Uvf5LxIISM0Q",
        "outputId": "49d6b712-0208-4e3e-b038-6115552ba8a3"
      },
      "execution_count": null,
      "outputs": [
        {
          "output_type": "stream",
          "name": "stdout",
          "text": [
            "Numpy ones:\n",
            "[[1. 1. 1.]\n",
            " [1. 1. 1.]\n",
            " [1. 1. 1.]\n",
            " [1. 1. 1.]\n",
            " [1. 1. 1.]]\n",
            "\n",
            "Numpy zeros:\n",
            "[[0. 0. 0.]\n",
            " [0. 0. 0.]\n",
            " [0. 0. 0.]\n",
            " [0. 0. 0.]\n",
            " [0. 0. 0.]]\n",
            "\n"
          ]
        }
      ]
    },
    {
      "cell_type": "markdown",
      "source": [
        "### np.random.random\n",
        "\n",
        "Will generate values between 0-1"
      ],
      "metadata": {
        "id": "s1xeo4DQSp2h"
      }
    },
    {
      "cell_type": "code",
      "source": [
        "np.random.random((3,3))"
      ],
      "metadata": {
        "colab": {
          "base_uri": "https://localhost:8080/"
        },
        "id": "l2fIzKA7TOqD",
        "outputId": "a5c881ee-0841-47cf-d37f-414c5ad616a5"
      },
      "execution_count": null,
      "outputs": [
        {
          "output_type": "execute_result",
          "data": {
            "text/plain": [
              "array([[0.2862365 , 0.82472549, 0.428239  ],\n",
              "       [0.87791864, 0.5346466 , 0.97245101],\n",
              "       [0.90711569, 0.49337975, 0.78631116]])"
            ]
          },
          "metadata": {},
          "execution_count": 35
        }
      ]
    },
    {
      "cell_type": "markdown",
      "source": [
        "### np.linspace\n",
        "\n",
        "Generates **Linearly spaced** (equal distance) numbers withing the given number range\n",
        "\n",
        "* first value: lower limit\n",
        "* second value: upper limit\n",
        "* third value: length (how many numbers)"
      ],
      "metadata": {
        "id": "Qrdup9VsTQox"
      }
    },
    {
      "cell_type": "code",
      "source": [
        "np.linspace(-10, 10, 10, dtype = int)"
      ],
      "metadata": {
        "colab": {
          "base_uri": "https://localhost:8080/"
        },
        "id": "fcP5f2LaTylM",
        "outputId": "32bc758e-aada-4df5-ab3f-f25a0f8d09df"
      },
      "execution_count": null,
      "outputs": [
        {
          "output_type": "execute_result",
          "data": {
            "text/plain": [
              "array([-10,  -8,  -6,  -4,  -2,   1,   3,   5,   7,  10])"
            ]
          },
          "metadata": {},
          "execution_count": 41
        }
      ]
    },
    {
      "cell_type": "markdown",
      "source": [
        "### np.identity\n",
        "\n",
        "Creates an identity matrix\n",
        "\n",
        "**Identity matrix** has all the diagonal elements as 1 and rest everything is 0"
      ],
      "metadata": {
        "id": "3c1HcBXxT1Ha"
      }
    },
    {
      "cell_type": "code",
      "source": [
        "np.identity(3)"
      ],
      "metadata": {
        "colab": {
          "base_uri": "https://localhost:8080/"
        },
        "id": "bZBrdv6fUxPO",
        "outputId": "c0128ff9-2841-42ff-d38a-b69c04cf282d"
      },
      "execution_count": null,
      "outputs": [
        {
          "output_type": "execute_result",
          "data": {
            "text/plain": [
              "array([[1., 0., 0.],\n",
              "       [0., 1., 0.],\n",
              "       [0., 0., 1.]])"
            ]
          },
          "metadata": {},
          "execution_count": 44
        }
      ]
    },
    {
      "cell_type": "markdown",
      "source": [
        "## Array Attributes"
      ],
      "metadata": {
        "id": "NswUfUFeU8_p"
      }
    },
    {
      "cell_type": "code",
      "source": [
        "a = np.arange(10, dtype = np.int32)\n",
        "a = np.arange(1, 13, dtype = int).reshape(4,3)\n",
        "print(f'Generating numbers 1-12 as integers and reshaping as 4x3:\\n{a}\\n')"
      ],
      "metadata": {
        "colab": {
          "base_uri": "https://localhost:8080/"
        },
        "id": "QU4rc3EZV1Ky",
        "outputId": "322e4e31-ecc6-43a1-b9f2-e350cd12a0ab"
      },
      "execution_count": null,
      "outputs": [
        {
          "output_type": "stream",
          "name": "stdout",
          "text": [
            "Generating numbers 1-12 as integers and reshaping as 4x3:\n",
            "[[ 1  2  3]\n",
            " [ 4  5  6]\n",
            " [ 7  8  9]\n",
            " [10 11 12]]\n",
            "\n"
          ]
        }
      ]
    },
    {
      "cell_type": "code",
      "source": [
        "a = np.random.random(16).reshape(4,2,2)\n",
        "a"
      ],
      "metadata": {
        "colab": {
          "base_uri": "https://localhost:8080/"
        },
        "id": "W4FC3aBrV6Ju",
        "outputId": "bd2d306e-76cd-46a1-a877-8d62f17348a1"
      },
      "execution_count": null,
      "outputs": [
        {
          "output_type": "execute_result",
          "data": {
            "text/plain": [
              "array([[[0.70599487, 0.94458922],\n",
              "        [0.76404194, 0.52337401]],\n",
              "\n",
              "       [[0.74266096, 0.40217348],\n",
              "        [0.32892577, 0.77514032]],\n",
              "\n",
              "       [[0.673926  , 0.75349604],\n",
              "        [0.23112887, 0.23012322]],\n",
              "\n",
              "       [[0.87656241, 0.28509248],\n",
              "        [0.43869541, 0.08008648]]])"
            ]
          },
          "metadata": {},
          "execution_count": 66
        }
      ]
    },
    {
      "cell_type": "markdown",
      "source": [
        "### ndim, shape, size, itemsize\n",
        "\n",
        "* ndim: Outputs the number of dimensions of that array\n",
        "* shape: Outputs the dimension shape of the array\n",
        "* size: Outputs the total number of elements that the array can hold\n",
        "* itemsize: Length of one array element in bytes."
      ],
      "metadata": {
        "id": "psS8Kb0tWzAu"
      }
    },
    {
      "cell_type": "code",
      "source": [
        "a.ndim"
      ],
      "metadata": {
        "colab": {
          "base_uri": "https://localhost:8080/"
        },
        "id": "SkbHmMthXQj6",
        "outputId": "3b5132cb-6c2f-4542-80c2-dda5d8fd78ff"
      },
      "execution_count": null,
      "outputs": [
        {
          "output_type": "execute_result",
          "data": {
            "text/plain": [
              "3"
            ]
          },
          "metadata": {},
          "execution_count": 67
        }
      ]
    },
    {
      "cell_type": "code",
      "source": [
        "a.shape"
      ],
      "metadata": {
        "colab": {
          "base_uri": "https://localhost:8080/"
        },
        "id": "kt2TcinYXlsk",
        "outputId": "4346e29a-29f1-4bd6-8a6e-302c5c2b6867"
      },
      "execution_count": null,
      "outputs": [
        {
          "output_type": "execute_result",
          "data": {
            "text/plain": [
              "(4, 2, 2)"
            ]
          },
          "metadata": {},
          "execution_count": 68
        }
      ]
    },
    {
      "cell_type": "code",
      "source": [
        "a.size"
      ],
      "metadata": {
        "colab": {
          "base_uri": "https://localhost:8080/"
        },
        "id": "r5cOt_IaXmna",
        "outputId": "128d08b3-9990-45f8-b3d4-fa2a5b16f645"
      },
      "execution_count": null,
      "outputs": [
        {
          "output_type": "execute_result",
          "data": {
            "text/plain": [
              "16"
            ]
          },
          "metadata": {},
          "execution_count": 69
        }
      ]
    },
    {
      "cell_type": "code",
      "source": [
        "a.itemsize"
      ],
      "metadata": {
        "colab": {
          "base_uri": "https://localhost:8080/"
        },
        "id": "8C-qPuV8YGI3",
        "outputId": "8c3ba5e4-db82-4da0-b044-3d43c1553787"
      },
      "execution_count": null,
      "outputs": [
        {
          "output_type": "execute_result",
          "data": {
            "text/plain": [
              "8"
            ]
          },
          "metadata": {},
          "execution_count": 70
        }
      ]
    },
    {
      "cell_type": "markdown",
      "source": [
        "### dtype\n",
        "\n",
        "Default numpy datatype is float64 and int64"
      ],
      "metadata": {
        "id": "9orPpSbsYJMy"
      }
    },
    {
      "cell_type": "code",
      "source": [
        "print(f'{np.array([1,2,3]).dtype}')\n",
        "print(f'{np.array([1,2,3], dtype = np.int32).dtype}')\n",
        "print(f'{np.array([1,2,3], dtype = np.float32).dtype}')"
      ],
      "metadata": {
        "colab": {
          "base_uri": "https://localhost:8080/"
        },
        "id": "dtw2UqPVYjMA",
        "outputId": "6d71c3e2-2092-4747-ba3c-3039ae241a64"
      },
      "execution_count": null,
      "outputs": [
        {
          "output_type": "stream",
          "name": "stdout",
          "text": [
            "int64\n",
            "int32\n",
            "float32\n"
          ]
        }
      ]
    },
    {
      "cell_type": "markdown",
      "source": [
        "### Changing Datatype\n",
        "\n",
        "`astype` is used to change from one datatype to another"
      ],
      "metadata": {
        "id": "cXL7dhTVYw1-"
      }
    },
    {
      "cell_type": "code",
      "source": [
        "print(f'Initial data type: {a.dtype}\\n')\n",
        "a.astype(np.int32)\n",
        "print(f'After chaning: {a.dtype}\\n')"
      ],
      "metadata": {
        "colab": {
          "base_uri": "https://localhost:8080/"
        },
        "id": "BF5JFvYtaYkY",
        "outputId": "0ab41a0b-39b1-4a6f-d5ff-7d6d0e638dcd"
      },
      "execution_count": null,
      "outputs": [
        {
          "output_type": "stream",
          "name": "stdout",
          "text": [
            "Initial data type: float64\n",
            "\n",
            "After chaning: float64\n",
            "\n"
          ]
        }
      ]
    },
    {
      "cell_type": "markdown",
      "source": [
        "## Array Operations"
      ],
      "metadata": {
        "id": "tswM-ZEBabNi"
      }
    },
    {
      "cell_type": "markdown",
      "source": [
        "### Scalar/Arithmetic operations, Vector operations"
      ],
      "metadata": {
        "id": "P4MMZP-xbIZ3"
      }
    },
    {
      "cell_type": "code",
      "source": [
        "# Scalar Operations\n",
        "a1 = np.arange(10,20, dtype = np.int32)\n",
        "print(f'Initial array:\\n{a1}\\n')\n",
        "print(f'Multiplying each element with 2:\\n{a1 * 2}\\n')\n",
        "print(f'Squaring each element:\\n{a1 ** 2}\\n')\n",
        "print(f'Checking boolean conditions:\\n{a1 == 15}') # relational operation"
      ],
      "metadata": {
        "colab": {
          "base_uri": "https://localhost:8080/"
        },
        "id": "niyFRcf7bU4c",
        "outputId": "c1ec3b8d-8bc4-49e0-a8d0-cee52111acc8"
      },
      "execution_count": null,
      "outputs": [
        {
          "output_type": "stream",
          "name": "stdout",
          "text": [
            "Initial array:\n",
            "[10 11 12 13 14 15 16 17 18 19]\n",
            "\n",
            "Multiplying each element with 2:\n",
            "[20 22 24 26 28 30 32 34 36 38]\n",
            "\n",
            "Squaring each element:\n",
            "[100 121 144 169 196 225 256 289 324 361]\n",
            "\n",
            "Checking boolean conditions:\n",
            "[False False False False False  True False False False False]\n"
          ]
        }
      ]
    },
    {
      "cell_type": "code",
      "source": [
        "# Vector operations\n",
        "a1 = np.arange(1, 11).reshape(5,2)\n",
        "a2 = np.arange(11,21).reshape(5,2)\n",
        "print(f'Initial matrices:\\na1\\n{a1}\\na2\\n{a2}\\n')\n",
        "print(f'Vector multiplication of these two:\\n{a2 * a1}\\n')"
      ],
      "metadata": {
        "colab": {
          "base_uri": "https://localhost:8080/"
        },
        "id": "pp-ad8tNbdyQ",
        "outputId": "fe4c451a-eca2-4bd5-df5d-142ac9a5f3a3"
      },
      "execution_count": null,
      "outputs": [
        {
          "output_type": "stream",
          "name": "stdout",
          "text": [
            "Initial matrices:\n",
            "a1\n",
            "[[ 1  2]\n",
            " [ 3  4]\n",
            " [ 5  6]\n",
            " [ 7  8]\n",
            " [ 9 10]]\n",
            "a2\n",
            "[[11 12]\n",
            " [13 14]\n",
            " [15 16]\n",
            " [17 18]\n",
            " [19 20]]\n",
            "\n",
            "Vector multiplication of these two:\n",
            "[[ 11  24]\n",
            " [ 39  56]\n",
            " [ 75  96]\n",
            " [119 144]\n",
            " [171 200]]\n",
            "\n"
          ]
        }
      ]
    },
    {
      "cell_type": "code",
      "source": [
        "a1 = np.round(np.random.random((3,3)) * 100).astype(np.int32)\n",
        "a1"
      ],
      "metadata": {
        "colab": {
          "base_uri": "https://localhost:8080/"
        },
        "id": "89o3DNUpdMUr",
        "outputId": "d4bb2dcd-241f-4b9a-d6c1-58efed15a7ca"
      },
      "execution_count": null,
      "outputs": [
        {
          "output_type": "execute_result",
          "data": {
            "text/plain": [
              "array([[47, 98, 57],\n",
              "       [10, 51, 15],\n",
              "       [69, 18, 76]], dtype=int32)"
            ]
          },
          "metadata": {},
          "execution_count": 111
        }
      ]
    },
    {
      "cell_type": "markdown",
      "source": [
        "### Min / Max / Sum / Prod\n",
        "\n",
        "axis: One which axes should you multiply\n",
        "* 0 is columns and 1 is rows"
      ],
      "metadata": {
        "id": "LCK0KBVLd6Ky"
      }
    },
    {
      "cell_type": "code",
      "source": [
        "a = np.array([[1,2,3],[2,3,4],[2,4,1]])\n",
        "print(f'Initial Matrix:\\n{a}\\n')\n",
        "print(f'Multiplication product of columns: {np.prod(a,axis=0)}\\n')\n",
        "print(f'Multiplication product of rows: {np.prod(a,axis=1)}\\n')\n",
        "print(f'Sum of rows: {np.sum(a, axis=1)}\\n')\n",
        "print(f'Max of columns: {np.max(a, axis=0)}\\n')\n",
        "print(f'Min of rows: {np.min(a, axis=1)}\\n')"
      ],
      "metadata": {
        "colab": {
          "base_uri": "https://localhost:8080/"
        },
        "id": "t39uXOF3ej7K",
        "outputId": "8bb6909b-fc17-413f-bd74-8d1722c150f2"
      },
      "execution_count": null,
      "outputs": [
        {
          "output_type": "stream",
          "name": "stdout",
          "text": [
            "Initial Matrix:\n",
            "[[1 2 3]\n",
            " [2 3 4]\n",
            " [2 4 1]]\n",
            "\n",
            "Multiplication product of columns: [ 4 24 12]\n",
            "\n",
            "Multiplication product of rows: [ 6 24  8]\n",
            "\n",
            "Sum of rows: [6 9 7]\n",
            "\n",
            "Max of columns: [2 4 4]\n",
            "\n",
            "Min of rows: [1 2 1]\n",
            "\n"
          ]
        }
      ]
    },
    {
      "cell_type": "markdown",
      "source": [
        "Mean / Median / Std / Var"
      ],
      "metadata": {
        "id": "ef7a_jQtemIa"
      }
    },
    {
      "cell_type": "code",
      "source": [
        "print(f'Mean of rows: {np.mean(a, axis=1)}\\n')\n",
        "print(f'Mediam of columns: {np.median(a, axis=0)}\\n')\n",
        "print(f'Std of rows: {np.std(a, axis=1)}\\n')\n",
        "print(f'Var of columns: {np.var(a, axis=0)}\\n')"
      ],
      "metadata": {
        "colab": {
          "base_uri": "https://localhost:8080/"
        },
        "id": "-vwHBfvagS4y",
        "outputId": "ed58b405-46fd-4451-e998-abcd33c2c944"
      },
      "execution_count": null,
      "outputs": [
        {
          "output_type": "stream",
          "name": "stdout",
          "text": [
            "Mean of rows: [2.         3.         2.33333333]\n",
            "\n",
            "Mediam of columns: [2. 3. 3.]\n",
            "\n",
            "Std of rows: [0.81649658 0.81649658 1.24721913]\n",
            "\n",
            "Var of columns: [0.22222222 0.66666667 1.55555556]\n",
            "\n"
          ]
        }
      ]
    },
    {
      "cell_type": "markdown",
      "source": [
        "### Trigonometric functions"
      ],
      "metadata": {
        "id": "NLFvqUe2kglO"
      }
    },
    {
      "cell_type": "code",
      "source": [
        "\n",
        "print(f'Initial matrix:\\n{a}\\n')\n",
        "print(f'Matrix after Sin function:\\n{np.sin(a)}\\n')"
      ],
      "metadata": {
        "colab": {
          "base_uri": "https://localhost:8080/"
        },
        "id": "ADL9IQR9gXiL",
        "outputId": "c43005fe-f85e-40ec-cfa6-e8fc14994245"
      },
      "execution_count": null,
      "outputs": [
        {
          "output_type": "stream",
          "name": "stdout",
          "text": [
            "Initial matrix:\n",
            "[[1 2 3]\n",
            " [2 3 4]\n",
            " [2 4 1]]\n",
            "\n",
            "Matrix after Sin function:\n",
            "[[ 0.84147098  0.90929743  0.14112001]\n",
            " [ 0.90929743  0.14112001 -0.7568025 ]\n",
            " [ 0.90929743 -0.7568025   0.84147098]]\n",
            "\n"
          ]
        }
      ]
    },
    {
      "cell_type": "markdown",
      "source": [
        "### Dot product\n",
        "\n",
        "Check the shape 3x4 and 4x3 matrices, since 4 is same, then only dot product is possible"
      ],
      "metadata": {
        "id": "W1ETx9_IgwE9"
      }
    },
    {
      "cell_type": "code",
      "source": [
        "a1 = np.arange(12).reshape(3,4)\n",
        "a2 = np.arange(12,24).reshape(4,3)\n",
        "print(f'a1:\\n{a1}\\n')\n",
        "print(f'a2:\\n{a2}\\n')\n",
        "print(f'Dot product of a1 and a2:\\n{np.dot(a1,a2)}')"
      ],
      "metadata": {
        "colab": {
          "base_uri": "https://localhost:8080/"
        },
        "id": "472qnORdkmws",
        "outputId": "36b33204-634e-456e-c858-8e2a2ce4856b"
      },
      "execution_count": 133,
      "outputs": [
        {
          "output_type": "stream",
          "name": "stdout",
          "text": [
            "a1:\n",
            "[[ 0  1  2  3]\n",
            " [ 4  5  6  7]\n",
            " [ 8  9 10 11]]\n",
            "\n",
            "a2:\n",
            "[[12 13 14]\n",
            " [15 16 17]\n",
            " [18 19 20]\n",
            " [21 22 23]]\n",
            "\n",
            "Dot product of a1 and a2:\n",
            "[[114 120 126]\n",
            " [378 400 422]\n",
            " [642 680 718]]\n"
          ]
        }
      ]
    },
    {
      "cell_type": "markdown",
      "source": [
        "### Log and exponents"
      ],
      "metadata": {
        "id": "M9-K-J9cltdO"
      }
    },
    {
      "cell_type": "code",
      "source": [
        "print(f'Exponents of a1:\\n{np.exp(a1)}\\n')\n",
        "print(f'Logs of a1:\\n{np.log(a1)}\\n')"
      ],
      "metadata": {
        "colab": {
          "base_uri": "https://localhost:8080/"
        },
        "id": "FeI2oOaFk5bA",
        "outputId": "a163c329-df7b-4b67-e3a7-147faa345b24"
      },
      "execution_count": 136,
      "outputs": [
        {
          "output_type": "stream",
          "name": "stdout",
          "text": [
            "Exponents of a1:\n",
            "[[1.00000000e+00 2.71828183e+00 7.38905610e+00 2.00855369e+01]\n",
            " [5.45981500e+01 1.48413159e+02 4.03428793e+02 1.09663316e+03]\n",
            " [2.98095799e+03 8.10308393e+03 2.20264658e+04 5.98741417e+04]]\n",
            "\n",
            "Logs of a1:\n",
            "[[      -inf 0.         0.69314718 1.09861229]\n",
            " [1.38629436 1.60943791 1.79175947 1.94591015]\n",
            " [2.07944154 2.19722458 2.30258509 2.39789527]]\n",
            "\n"
          ]
        }
      ]
    },
    {
      "cell_type": "markdown",
      "source": [
        "### Round / Floor / Ceil"
      ],
      "metadata": {
        "id": "d3IZslJUlqA_"
      }
    },
    {
      "cell_type": "code",
      "source": [
        "a = np.random.random((2,3)) * 100\n",
        "print(f\"Initial array:\\n{a}\\n\")\n",
        "print(f'Rounded off array:\\n{np.round(a)}\\n')\n",
        "print(f\"Ceiled array:\\n{np.ceil(a)}\\n\")\n",
        "print(f\"Floored array:\\n{np.floor(a)}\\n\")"
      ],
      "metadata": {
        "colab": {
          "base_uri": "https://localhost:8080/"
        },
        "id": "o9OozTiUlwSr",
        "outputId": "7e1e18d0-4430-4df3-83d9-ef24b7ccaf45"
      },
      "execution_count": 142,
      "outputs": [
        {
          "output_type": "stream",
          "name": "stdout",
          "text": [
            "Initial array:\n",
            "[[29.72952834 88.13308903 91.52457546]\n",
            " [79.92693199 48.47794264 98.48114627]]\n",
            "\n",
            "Rounded off array:\n",
            "[[30. 88. 92.]\n",
            " [80. 48. 98.]]\n",
            "\n",
            "Ceiled array:\n",
            "[[30. 89. 92.]\n",
            " [80. 49. 99.]]\n",
            "\n",
            "Floored array:\n",
            "[[29. 88. 91.]\n",
            " [79. 48. 98.]]\n",
            "\n"
          ]
        }
      ]
    },
    {
      "cell_type": "markdown",
      "source": [
        "### Indexing and Slicing"
      ],
      "metadata": {
        "id": "ut3tHjjLnzTd"
      }
    },
    {
      "cell_type": "code",
      "source": [
        "a = np.arange(1,37).reshape(3,4,3)\n",
        "print(f'Inital array:\\n{a}\\n')"
      ],
      "metadata": {
        "colab": {
          "base_uri": "https://localhost:8080/"
        },
        "id": "HgtiiCkbohz5",
        "outputId": "67920212-8007-4777-ec80-c6849596a397"
      },
      "execution_count": 146,
      "outputs": [
        {
          "output_type": "stream",
          "name": "stdout",
          "text": [
            "Inital array:\n",
            "[[[ 1  2  3]\n",
            "  [ 4  5  6]\n",
            "  [ 7  8  9]\n",
            "  [10 11 12]]\n",
            "\n",
            " [[13 14 15]\n",
            "  [16 17 18]\n",
            "  [19 20 21]\n",
            "  [22 23 24]]\n",
            "\n",
            " [[25 26 27]\n",
            "  [28 29 30]\n",
            "  [31 32 33]\n",
            "  [34 35 36]]]\n",
            "\n"
          ]
        }
      ]
    },
    {
      "cell_type": "code",
      "source": [
        "print(f'To take out five: {a[0,1,1]}')\n",
        "print(f'Another way: {a[0][1][1]}')"
      ],
      "metadata": {
        "colab": {
          "base_uri": "https://localhost:8080/"
        },
        "id": "4DEU-LEVowYN",
        "outputId": "26cad3e6-73b9-4db3-9f64-15bf602fe4bb"
      },
      "execution_count": 155,
      "outputs": [
        {
          "output_type": "stream",
          "name": "stdout",
          "text": [
            "To take out five: 5\n",
            "Another way: 5\n"
          ]
        }
      ]
    },
    {
      "cell_type": "code",
      "source": [
        "print(f'To print the middle matrix array:\\n{a[1,:,:]}')"
      ],
      "metadata": {
        "colab": {
          "base_uri": "https://localhost:8080/"
        },
        "id": "5Z91WTsipDv_",
        "outputId": "f2e4a40e-3148-4e3c-84bb-2ce2892c3e21"
      },
      "execution_count": 159,
      "outputs": [
        {
          "output_type": "stream",
          "name": "stdout",
          "text": [
            "To print the middle matrix array:\n",
            "[[13 14 15]\n",
            " [16 17 18]\n",
            " [19 20 21]\n",
            " [22 23 24]]\n"
          ]
        }
      ]
    },
    {
      "cell_type": "code",
      "source": [
        "print(f'To print 2nd row of the middle matrix array:\\n{a[1,1,:]}')"
      ],
      "metadata": {
        "colab": {
          "base_uri": "https://localhost:8080/"
        },
        "id": "N8FPRUa5qB6k",
        "outputId": "5f58616c-5b61-43de-e50c-d9052882d146"
      },
      "execution_count": 161,
      "outputs": [
        {
          "output_type": "stream",
          "name": "stdout",
          "text": [
            "To print 2nd row of the middle matrix array:\n",
            "[16 17 18]\n"
          ]
        }
      ]
    },
    {
      "cell_type": "markdown",
      "source": [
        "### Transposing"
      ],
      "metadata": {
        "id": "sNmZLxOdqeVj"
      }
    },
    {
      "cell_type": "code",
      "source": [
        "print(f'Initial matrix array:\\n{a}\\n')\n",
        "print(f'Transposed matrix array:\\n{np.transpose(a)}\\n')"
      ],
      "metadata": {
        "colab": {
          "base_uri": "https://localhost:8080/"
        },
        "id": "iM0N4DMlqseM",
        "outputId": "1f437acb-c6b0-4194-b956-a34f3276eab2"
      },
      "execution_count": 164,
      "outputs": [
        {
          "output_type": "stream",
          "name": "stdout",
          "text": [
            "Initial matrix array:\n",
            "[[[ 1  2  3]\n",
            "  [ 4  5  6]\n",
            "  [ 7  8  9]\n",
            "  [10 11 12]]\n",
            "\n",
            " [[13 14 15]\n",
            "  [16 17 18]\n",
            "  [19 20 21]\n",
            "  [22 23 24]]\n",
            "\n",
            " [[25 26 27]\n",
            "  [28 29 30]\n",
            "  [31 32 33]\n",
            "  [34 35 36]]]\n",
            "\n",
            "Transposed matrix array:\n",
            "[[[ 1 13 25]\n",
            "  [ 4 16 28]\n",
            "  [ 7 19 31]\n",
            "  [10 22 34]]\n",
            "\n",
            " [[ 2 14 26]\n",
            "  [ 5 17 29]\n",
            "  [ 8 20 32]\n",
            "  [11 23 35]]\n",
            "\n",
            " [[ 3 15 27]\n",
            "  [ 6 18 30]\n",
            "  [ 9 21 33]\n",
            "  [12 24 36]]]\n",
            "\n"
          ]
        }
      ]
    },
    {
      "cell_type": "markdown",
      "source": [
        "### Ravel\n",
        "\n",
        "This will unravel all the dimensions and make it 1D"
      ],
      "metadata": {
        "id": "__CX5jyLquUl"
      }
    },
    {
      "cell_type": "code",
      "source": [
        "a.ravel()"
      ],
      "metadata": {
        "colab": {
          "base_uri": "https://localhost:8080/"
        },
        "id": "5m1bImMTq_eR",
        "outputId": "7b884e5d-e5a5-4010-84e0-bec26d57e93f"
      },
      "execution_count": 166,
      "outputs": [
        {
          "output_type": "execute_result",
          "data": {
            "text/plain": [
              "array([ 1,  2,  3,  4,  5,  6,  7,  8,  9, 10, 11, 12, 13, 14, 15, 16, 17,\n",
              "       18, 19, 20, 21, 22, 23, 24, 25, 26, 27, 28, 29, 30, 31, 32, 33, 34,\n",
              "       35, 36])"
            ]
          },
          "metadata": {},
          "execution_count": 166
        }
      ]
    },
    {
      "cell_type": "markdown",
      "source": [
        "### Stacking"
      ],
      "metadata": {
        "id": "AbuZ6HBRrBWe"
      }
    },
    {
      "cell_type": "code",
      "source": [
        "a1 = np.arange(12).reshape(3,4)\n",
        "a2 = np.arange(12,24).reshape(3,4)\n",
        "print(f'Array 1:\\n{a1}\\n')\n",
        "print(f'Array 2:\\n{a2}\\n')\n",
        "# horzontal stacking\n",
        "a3 = np.hstack((a1,a2))\n",
        "print(f'Horizontal stacking:\\n{a3}\\n')\n",
        "# vertical stacking\n",
        "a4 = np.vstack((a1,a2))\n",
        "print(f'Vertical stacking:\\n{a4}\\n')\n",
        "## Printing the shapes\n",
        "print(f'Shape of Array 1:\\n{a1.shape}\\nShape of Array 2:\\n{a2.shape}\\nShape of Horizontal Stack: {a3.shape}\\nShape of Vertical Stack: {a4.shape}\\n')"
      ],
      "metadata": {
        "colab": {
          "base_uri": "https://localhost:8080/"
        },
        "id": "REwfbuPgrJMg",
        "outputId": "8a927992-b849-4611-8843-0535e3ec6883"
      },
      "execution_count": 170,
      "outputs": [
        {
          "output_type": "stream",
          "name": "stdout",
          "text": [
            "Array 1:\n",
            "[[ 0  1  2  3]\n",
            " [ 4  5  6  7]\n",
            " [ 8  9 10 11]]\n",
            "\n",
            "Array 2:\n",
            "[[12 13 14 15]\n",
            " [16 17 18 19]\n",
            " [20 21 22 23]]\n",
            "\n",
            "Horizontal stacking:\n",
            "[[ 0  1  2  3 12 13 14 15]\n",
            " [ 4  5  6  7 16 17 18 19]\n",
            " [ 8  9 10 11 20 21 22 23]]\n",
            "\n",
            "Vertical stacking:\n",
            "[[ 0  1  2  3]\n",
            " [ 4  5  6  7]\n",
            " [ 8  9 10 11]\n",
            " [12 13 14 15]\n",
            " [16 17 18 19]\n",
            " [20 21 22 23]]\n",
            "\n",
            "Shape of Array 1:\n",
            "(3, 4)\n",
            "Shape of Array 2:\n",
            "(3, 4)\n",
            "Shape of Horizontal Stack: (3, 8)\n",
            "Shape of Vertical Stack: (6, 4)\n",
            "\n"
          ]
        }
      ]
    },
    {
      "cell_type": "markdown",
      "source": [
        "### Splitting"
      ],
      "metadata": {
        "id": "p6vgj7vyrpUU"
      }
    },
    {
      "cell_type": "code",
      "source": [
        "a1 = np.arange(12).reshape(3,4)\n",
        "a2 = np.arange(1,25).reshape(6,4)\n",
        "print(f'Array 1:\\n{a1}\\n')\n",
        "print(f'Array 2:\\n{a2}\\n')\n",
        "# horzontal splitting\n",
        "a3 = np.hsplit(a1,2)\n",
        "print(f'Horizontal splitting:\\n{a3}\\n')\n",
        "# vertical splitting\n",
        "a4 = np.vsplit(a1,3)\n",
        "print(f'Vertical splitting:\\n{a4}\\n')"
      ],
      "metadata": {
        "colab": {
          "base_uri": "https://localhost:8080/"
        },
        "id": "-w56wWNpsYaM",
        "outputId": "01a06863-3c16-4561-aa76-fcff08373896"
      },
      "execution_count": 178,
      "outputs": [
        {
          "output_type": "stream",
          "name": "stdout",
          "text": [
            "Array 1:\n",
            "[[ 0  1  2  3]\n",
            " [ 4  5  6  7]\n",
            " [ 8  9 10 11]]\n",
            "\n",
            "Array 2:\n",
            "[[ 1  2  3  4]\n",
            " [ 5  6  7  8]\n",
            " [ 9 10 11 12]\n",
            " [13 14 15 16]\n",
            " [17 18 19 20]\n",
            " [21 22 23 24]]\n",
            "\n",
            "Horizontal splitting:\n",
            "[array([[0, 1],\n",
            "       [4, 5],\n",
            "       [8, 9]]), array([[ 2,  3],\n",
            "       [ 6,  7],\n",
            "       [10, 11]])]\n",
            "\n",
            "Vertical splitting:\n",
            "[array([[0, 1, 2, 3]]), array([[4, 5, 6, 7]]), array([[ 8,  9, 10, 11]])]\n",
            "\n"
          ]
        }
      ]
    }
  ]
}